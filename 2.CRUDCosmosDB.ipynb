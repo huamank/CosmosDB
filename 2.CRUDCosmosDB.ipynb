{
 "cells": [
  {
   "cell_type": "code",
   "execution_count": 2,
   "metadata": {},
   "outputs": [
    {
     "name": "stdout",
     "output_type": "stream",
     "text": [
      "Requirement already satisfied: azure-cosmos in /usr/local/python/3.12.1/lib/python3.12/site-packages (4.7.0)\n",
      "Requirement already satisfied: azure-core>=1.25.1 in /usr/local/python/3.12.1/lib/python3.12/site-packages (from azure-cosmos) (1.31.0)\n",
      "Requirement already satisfied: typing-extensions>=4.6.0 in /home/codespace/.local/lib/python3.12/site-packages (from azure-cosmos) (4.9.0)\n",
      "Requirement already satisfied: requests>=2.21.0 in /home/codespace/.local/lib/python3.12/site-packages (from azure-core>=1.25.1->azure-cosmos) (2.32.3)\n",
      "Requirement already satisfied: six>=1.11.0 in /home/codespace/.local/lib/python3.12/site-packages (from azure-core>=1.25.1->azure-cosmos) (1.16.0)\n",
      "Requirement already satisfied: charset-normalizer<4,>=2 in /home/codespace/.local/lib/python3.12/site-packages (from requests>=2.21.0->azure-core>=1.25.1->azure-cosmos) (3.3.2)\n",
      "Requirement already satisfied: idna<4,>=2.5 in /home/codespace/.local/lib/python3.12/site-packages (from requests>=2.21.0->azure-core>=1.25.1->azure-cosmos) (3.10)\n",
      "Requirement already satisfied: urllib3<3,>=1.21.1 in /home/codespace/.local/lib/python3.12/site-packages (from requests>=2.21.0->azure-core>=1.25.1->azure-cosmos) (2.2.3)\n",
      "Requirement already satisfied: certifi>=2017.4.17 in /home/codespace/.local/lib/python3.12/site-packages (from requests>=2.21.0->azure-core>=1.25.1->azure-cosmos) (2024.8.30)\n",
      "Note: you may need to restart the kernel to use updated packages.\n"
     ]
    }
   ],
   "source": [
    "pip install azure-cosmos"
   ]
  },
  {
   "cell_type": "code",
   "execution_count": 2,
   "metadata": {},
   "outputs": [],
   "source": [
    "COSMOS_ENDPOINT = 'https://azcdb-krm.documents.azure.com:443/'\n",
    "COSMOS_KEY = 'QQmmlUlCYuzidQHUjVm0VFzQYkd0itAd1wmMiy5qVsahZGRDeFSxefMp06CzhUYIfGaDysReAWpSACDbedDEzw=='\n",
    "\n",
    "DATABASE_NAME = 'Test'\n",
    "CONTAINER_NAME = 'retail'"
   ]
  },
  {
   "cell_type": "code",
   "execution_count": 3,
   "metadata": {},
   "outputs": [],
   "source": [
    "from azure.cosmos import CosmosClient, exceptions, PartitionKey"
   ]
  },
  {
   "cell_type": "code",
   "execution_count": 4,
   "metadata": {},
   "outputs": [],
   "source": [
    "client = CosmosClient(COSMOS_ENDPOINT, COSMOS_KEY)"
   ]
  },
  {
   "cell_type": "code",
   "execution_count": 5,
   "metadata": {},
   "outputs": [],
   "source": [
    "database = client.create_database_if_not_exists(id=DATABASE_NAME)"
   ]
  },
  {
   "cell_type": "code",
   "execution_count": 6,
   "metadata": {},
   "outputs": [],
   "source": [
    "container = database.create_container_if_not_exists(\n",
    "    id=CONTAINER_NAME,\n",
    "    partition_key=PartitionKey(path=\"/id\"),\n",
    "    offer_throughput=400\n",
    ")"
   ]
  },
  {
   "cell_type": "code",
   "execution_count": 8,
   "metadata": {},
   "outputs": [
    {
     "data": {
      "text/plain": [
       "dict"
      ]
     },
     "execution_count": 8,
     "metadata": {},
     "output_type": "execute_result"
    }
   ],
   "source": [
    "documento = {\n",
    "    \"id\": \"1\",\n",
    "    \"nombre\": \"Producto A\",\n",
    "    \"descripcion\": \"Descripcion del producto A\",\n",
    "    \"precio\": 29.99,\n",
    "    \"categoria\": \"Electronica\"\n",
    "}\n",
    "type(documento)"
   ]
  },
  {
   "cell_type": "code",
   "execution_count": 10,
   "metadata": {},
   "outputs": [
    {
     "name": "stdout",
     "output_type": "stream",
     "text": [
      "El documento ya existe.\n"
     ]
    }
   ],
   "source": [
    "try:\n",
    "    container.create_item(body=documento)\n",
    "    print(\"Documento insertado exitosamente.\")\n",
    "except exceptions.CosmosResourceExistsError:\n",
    "    print(\"El documento ya existe.\")"
   ]
  },
  {
   "cell_type": "code",
   "execution_count": 14,
   "metadata": {},
   "outputs": [
    {
     "name": "stdout",
     "output_type": "stream",
     "text": [
      "[{'id': '1', 'nombre': 'Producto A', 'descripcion': 'Descripcion del producto A', 'precio': 24.99, 'categoria': 'Electronica', '_rid': 'Nb4eAO2pNK0BAAAAAAAAAA==', '_self': 'dbs/Nb4eAA==/colls/Nb4eAO2pNK0=/docs/Nb4eAO2pNK0BAAAAAAAAAA==/', '_etag': '\"10009ceb-0000-0100-0000-670712fd0000\"', '_attachments': 'attachments/', 'departamento': 'Artefactos', '_ts': 1728516861}]\n"
     ]
    }
   ],
   "source": [
    "query = 'SELECT * FROM c' \n",
    "\n",
    "items = list(container.query_items(\n",
    "    query=query,\n",
    "    enable_cross_partition_query=True\n",
    "))\n",
    "\n",
    "print(items)"
   ]
  },
  {
   "cell_type": "code",
   "execution_count": 17,
   "metadata": {},
   "outputs": [
    {
     "name": "stdout",
     "output_type": "stream",
     "text": [
      "Error al actualizar el documento:  (NotFound) Entity with the specified id does not exist in the system. More info: https://aka.ms/cosmosdb-tsg-not-found, \n",
      "RequestStartTime: 2024-10-09T23:40:41.9251617Z, RequestEndTime: 2024-10-09T23:40:41.9272512Z,  Number of regions attempted:1\n",
      "{\"systemHistory\":[{\"dateUtc\":\"2024-10-09T23:39:43.0161342Z\",\"cpu\":0.232,\"memory\":418184872.000,\"threadInfo\":{\"isThreadStarving\":\"False\",\"threadWaitIntervalInMs\":0.0501,\"availableThreads\":32765,\"minThreads\":64,\"maxThreads\":32767},\"numberOfOpenTcpConnection\":751},{\"dateUtc\":\"2024-10-09T23:39:53.0256539Z\",\"cpu\":0.107,\"memory\":418205368.000,\"threadInfo\":{\"isThreadStarving\":\"False\",\"threadWaitIntervalInMs\":0.0513,\"availableThreads\":32765,\"minThreads\":64,\"maxThreads\":32767},\"numberOfOpenTcpConnection\":758},{\"dateUtc\":\"2024-10-09T23:40:03.0355905Z\",\"cpu\":0.107,\"memory\":418184024.000,\"threadInfo\":{\"isThreadStarving\":\"False\",\"threadWaitIntervalInMs\":0.0558,\"availableThreads\":32764,\"minThreads\":64,\"maxThreads\":32767},\"numberOfOpenTcpConnection\":759},{\"dateUtc\":\"2024-10-09T23:40:13.0451219Z\",\"cpu\":0.673,\"memory\":418181316.000,\"threadInfo\":{\"isThreadStarving\":\"False\",\"threadWaitIntervalInMs\":0.0513,\"availableThreads\":32765,\"minThreads\":64,\"maxThreads\":32767},\"numberOfOpenTcpConnection\":767},{\"dateUtc\":\"2024-10-09T23:40:23.0550711Z\",\"cpu\":0.141,\"memory\":418162008.000,\"threadInfo\":{\"isThreadStarving\":\"False\",\"threadWaitIntervalInMs\":0.032,\"availableThreads\":32765,\"minThreads\":64,\"maxThreads\":32767},\"numberOfOpenTcpConnection\":767},{\"dateUtc\":\"2024-10-09T23:40:33.0650006Z\",\"cpu\":0.083,\"memory\":418162284.000,\"threadInfo\":{\"isThreadStarving\":\"False\",\"threadWaitIntervalInMs\":0.0475,\"availableThreads\":32764,\"minThreads\":64,\"maxThreads\":32767},\"numberOfOpenTcpConnection\":771}]}\n",
      "RequestStart: 2024-10-09T23:40:41.9253871Z; ResponseTime: 2024-10-09T23:40:41.9272512Z; StoreResult: StorePhysicalAddress: rntbd://cdb-ms-prod-eastus1-be118.documents.azure.com:14123/apps/b889ad78-40a8-4b9b-8d8d-dd8646969592/services/b06411b7-91e4-4992-b8dd-b4587526b274/partitions/d5490a8e-69b9-455b-8161-277539f36f90/replicas/133728171303589567s/, LSN: 4, GlobalCommittedLsn: 4, PartitionKeyRangeId: 0, IsValid: True, StatusCode: 404, SubStatusCode: 0, RequestCharge: 1, ItemLSN: -1, SessionToken: -1#4, UsingLocalLSN: True, TransportException: null, BELatencyMs: 0.371, ActivityId: 3ce2d43e-7588-416f-aea5-d0babda588cc, RetryAfterInMs: , ReplicaHealthStatuses: [(port: 14366 | status: Unknown | lkt: 10/9/2024 11:25:44 PM),(port: 14123 | status: Unknown | lkt: 10/9/2024 11:25:44 PM),(port: 14302 | status: Unknown | lkt: 10/9/2024 11:25:44 PM),(port: 14452 | status: Unknown | lkt: 10/9/2024 11:25:44 PM)], TransportRequestTimeline: {\"requestTimeline\":[{\"event\": \"Created\", \"startTimeUtc\": \"2024-10-09T23:40:41.9252778Z\", \"durationInMs\": 0.008},{\"event\": \"ChannelAcquisitionStarted\", \"startTimeUtc\": \"2024-10-09T23:40:41.9252858Z\", \"durationInMs\": 0.0087},{\"event\": \"Pipelined\", \"startTimeUtc\": \"2024-10-09T23:40:41.9252945Z\", \"durationInMs\": 0.079},{\"event\": \"Transit Time\", \"startTimeUtc\": \"2024-10-09T23:40:41.9253735Z\", \"durationInMs\": 1.8299},{\"event\": \"Received\", \"startTimeUtc\": \"2024-10-09T23:40:41.9272034Z\", \"durationInMs\": 0.0432},{\"event\": \"Completed\", \"startTimeUtc\": \"2024-10-09T23:40:41.9272466Z\", \"durationInMs\": 0}],\"serviceEndpointStats\":{\"inflightRequests\":1,\"openConnections\":1},\"connectionStats\":{\"waitforConnectionInit\":\"False\",\"callsPendingReceive\":0,\"lastSendAttempt\":\"2024-10-09T23:29:55.1409754Z\",\"lastSend\":\"2024-10-09T23:29:55.1409981Z\",\"lastReceive\":\"2024-10-09T23:29:55.1430650Z\"},\"requestSizeInBytes\":525,\"responseMetadataSizeInBytes\":146,\"responseBodySizeInBytes\":87};\n",
      " ResourceType: Document, OperationType: Read\n",
      ", Microsoft.Azure.Documents.Common/2.14.0\n",
      "Code: NotFound\n",
      "Message: Entity with the specified id does not exist in the system. More info: https://aka.ms/cosmosdb-tsg-not-found, \n",
      "RequestStartTime: 2024-10-09T23:40:41.9251617Z, RequestEndTime: 2024-10-09T23:40:41.9272512Z,  Number of regions attempted:1\n",
      "{\"systemHistory\":[{\"dateUtc\":\"2024-10-09T23:39:43.0161342Z\",\"cpu\":0.232,\"memory\":418184872.000,\"threadInfo\":{\"isThreadStarving\":\"False\",\"threadWaitIntervalInMs\":0.0501,\"availableThreads\":32765,\"minThreads\":64,\"maxThreads\":32767},\"numberOfOpenTcpConnection\":751},{\"dateUtc\":\"2024-10-09T23:39:53.0256539Z\",\"cpu\":0.107,\"memory\":418205368.000,\"threadInfo\":{\"isThreadStarving\":\"False\",\"threadWaitIntervalInMs\":0.0513,\"availableThreads\":32765,\"minThreads\":64,\"maxThreads\":32767},\"numberOfOpenTcpConnection\":758},{\"dateUtc\":\"2024-10-09T23:40:03.0355905Z\",\"cpu\":0.107,\"memory\":418184024.000,\"threadInfo\":{\"isThreadStarving\":\"False\",\"threadWaitIntervalInMs\":0.0558,\"availableThreads\":32764,\"minThreads\":64,\"maxThreads\":32767},\"numberOfOpenTcpConnection\":759},{\"dateUtc\":\"2024-10-09T23:40:13.0451219Z\",\"cpu\":0.673,\"memory\":418181316.000,\"threadInfo\":{\"isThreadStarving\":\"False\",\"threadWaitIntervalInMs\":0.0513,\"availableThreads\":32765,\"minThreads\":64,\"maxThreads\":32767},\"numberOfOpenTcpConnection\":767},{\"dateUtc\":\"2024-10-09T23:40:23.0550711Z\",\"cpu\":0.141,\"memory\":418162008.000,\"threadInfo\":{\"isThreadStarving\":\"False\",\"threadWaitIntervalInMs\":0.032,\"availableThreads\":32765,\"minThreads\":64,\"maxThreads\":32767},\"numberOfOpenTcpConnection\":767},{\"dateUtc\":\"2024-10-09T23:40:33.0650006Z\",\"cpu\":0.083,\"memory\":418162284.000,\"threadInfo\":{\"isThreadStarving\":\"False\",\"threadWaitIntervalInMs\":0.0475,\"availableThreads\":32764,\"minThreads\":64,\"maxThreads\":32767},\"numberOfOpenTcpConnection\":771}]}\n",
      "RequestStart: 2024-10-09T23:40:41.9253871Z; ResponseTime: 2024-10-09T23:40:41.9272512Z; StoreResult: StorePhysicalAddress: rntbd://cdb-ms-prod-eastus1-be118.documents.azure.com:14123/apps/b889ad78-40a8-4b9b-8d8d-dd8646969592/services/b06411b7-91e4-4992-b8dd-b4587526b274/partitions/d5490a8e-69b9-455b-8161-277539f36f90/replicas/133728171303589567s/, LSN: 4, GlobalCommittedLsn: 4, PartitionKeyRangeId: 0, IsValid: True, StatusCode: 404, SubStatusCode: 0, RequestCharge: 1, ItemLSN: -1, SessionToken: -1#4, UsingLocalLSN: True, TransportException: null, BELatencyMs: 0.371, ActivityId: 3ce2d43e-7588-416f-aea5-d0babda588cc, RetryAfterInMs: , ReplicaHealthStatuses: [(port: 14366 | status: Unknown | lkt: 10/9/2024 11:25:44 PM),(port: 14123 | status: Unknown | lkt: 10/9/2024 11:25:44 PM),(port: 14302 | status: Unknown | lkt: 10/9/2024 11:25:44 PM),(port: 14452 | status: Unknown | lkt: 10/9/2024 11:25:44 PM)], TransportRequestTimeline: {\"requestTimeline\":[{\"event\": \"Created\", \"startTimeUtc\": \"2024-10-09T23:40:41.9252778Z\", \"durationInMs\": 0.008},{\"event\": \"ChannelAcquisitionStarted\", \"startTimeUtc\": \"2024-10-09T23:40:41.9252858Z\", \"durationInMs\": 0.0087},{\"event\": \"Pipelined\", \"startTimeUtc\": \"2024-10-09T23:40:41.9252945Z\", \"durationInMs\": 0.079},{\"event\": \"Transit Time\", \"startTimeUtc\": \"2024-10-09T23:40:41.9253735Z\", \"durationInMs\": 1.8299},{\"event\": \"Received\", \"startTimeUtc\": \"2024-10-09T23:40:41.9272034Z\", \"durationInMs\": 0.0432},{\"event\": \"Completed\", \"startTimeUtc\": \"2024-10-09T23:40:41.9272466Z\", \"durationInMs\": 0}],\"serviceEndpointStats\":{\"inflightRequests\":1,\"openConnections\":1},\"connectionStats\":{\"waitforConnectionInit\":\"False\",\"callsPendingReceive\":0,\"lastSendAttempt\":\"2024-10-09T23:29:55.1409754Z\",\"lastSend\":\"2024-10-09T23:29:55.1409981Z\",\"lastReceive\":\"2024-10-09T23:29:55.1430650Z\"},\"requestSizeInBytes\":525,\"responseMetadataSizeInBytes\":146,\"responseBodySizeInBytes\":87};\n",
      " ResourceType: Document, OperationType: Read\n",
      ", Microsoft.Azure.Documents.Common/2.14.0\n"
     ]
    }
   ],
   "source": [
    "try:\n",
    "    item = container.read_item(item=\"2\", partition_key=\"1\")\n",
    "    item['precio'] = 24.99\n",
    "    item['departamento'] = 'Artefactos'\n",
    "    container.replace_item(item=item, body=item)\n",
    "except Exception as e:\n",
    "    print(\"Error al actualizar el documento: \", e)"
   ]
  },
  {
   "cell_type": "code",
   "execution_count": 19,
   "metadata": {},
   "outputs": [
    {
     "ename": "CosmosResourceNotFoundError",
     "evalue": "(NotFound) Entity with the specified id does not exist in the system. More info: https://aka.ms/cosmosdb-tsg-not-found, \r\nRequestStartTime: 2024-10-09T23:45:59.7681848Z, RequestEndTime: 2024-10-09T23:45:59.7705497Z,  Number of regions attempted:1\r\n{\"systemHistory\":[{\"dateUtc\":\"2024-10-09T23:45:03.3331776Z\",\"cpu\":0.183,\"memory\":417973940.000,\"threadInfo\":{\"isThreadStarving\":\"False\",\"threadWaitIntervalInMs\":0.0549,\"availableThreads\":32765,\"minThreads\":64,\"maxThreads\":32767},\"numberOfOpenTcpConnection\":734},{\"dateUtc\":\"2024-10-09T23:45:13.3431354Z\",\"cpu\":0.509,\"memory\":417975420.000,\"threadInfo\":{\"isThreadStarving\":\"False\",\"threadWaitIntervalInMs\":0.0264,\"availableThreads\":32765,\"minThreads\":64,\"maxThreads\":32767},\"numberOfOpenTcpConnection\":734},{\"dateUtc\":\"2024-10-09T23:45:23.3530868Z\",\"cpu\":0.283,\"memory\":417993244.000,\"threadInfo\":{\"isThreadStarving\":\"False\",\"threadWaitIntervalInMs\":0.0426,\"availableThreads\":32765,\"minThreads\":64,\"maxThreads\":32767},\"numberOfOpenTcpConnection\":736},{\"dateUtc\":\"2024-10-09T23:45:33.3629961Z\",\"cpu\":0.095,\"memory\":417993300.000,\"threadInfo\":{\"isThreadStarving\":\"False\",\"threadWaitIntervalInMs\":0.0593,\"availableThreads\":32765,\"minThreads\":64,\"maxThreads\":32767},\"numberOfOpenTcpConnection\":718},{\"dateUtc\":\"2024-10-09T23:45:43.3729529Z\",\"cpu\":0.134,\"memory\":417928208.000,\"threadInfo\":{\"isThreadStarving\":\"False\",\"threadWaitIntervalInMs\":0.0472,\"availableThreads\":32764,\"minThreads\":64,\"maxThreads\":32767},\"numberOfOpenTcpConnection\":718},{\"dateUtc\":\"2024-10-09T23:45:53.3828727Z\",\"cpu\":0.224,\"memory\":417929544.000,\"threadInfo\":{\"isThreadStarving\":\"False\",\"threadWaitIntervalInMs\":0.0545,\"availableThreads\":32764,\"minThreads\":64,\"maxThreads\":32767},\"numberOfOpenTcpConnection\":722}]}\r\nRequestStart: 2024-10-09T23:45:59.7682765Z; ResponseTime: 2024-10-09T23:45:59.7705497Z; StoreResult: StorePhysicalAddress: rntbd://cdb-ms-prod-eastus1-be118.documents.azure.com:14366/apps/b889ad78-40a8-4b9b-8d8d-dd8646969592/services/b06411b7-91e4-4992-b8dd-b4587526b274/partitions/d5490a8e-69b9-455b-8161-277539f36f90/replicas/133728171011225651p/, LSN: 5, GlobalCommittedLsn: 5, PartitionKeyRangeId: 0, IsValid: True, StatusCode: 404, SubStatusCode: 0, RequestCharge: 1.24, ItemLSN: -1, SessionToken: -1#5, UsingLocalLSN: False, TransportException: null, BELatencyMs: 0.643, ActivityId: f4124dd6-9cce-4c06-a4c3-e638d13479a6, RetryAfterInMs: , ReplicaHealthStatuses: [(port: 14366 | status: Connected | lkt: 10/9/2024 11:25:44 PM)], TransportRequestTimeline: {\"requestTimeline\":[{\"event\": \"Created\", \"startTimeUtc\": \"2024-10-09T23:45:59.7682772Z\", \"durationInMs\": 0.0066},{\"event\": \"ChannelAcquisitionStarted\", \"startTimeUtc\": \"2024-10-09T23:45:59.7682838Z\", \"durationInMs\": 0.0084},{\"event\": \"Pipelined\", \"startTimeUtc\": \"2024-10-09T23:45:59.7682922Z\", \"durationInMs\": 0.0464},{\"event\": \"Transit Time\", \"startTimeUtc\": \"2024-10-09T23:45:59.7683386Z\", \"durationInMs\": 2.1235},{\"event\": \"Received\", \"startTimeUtc\": \"2024-10-09T23:45:59.7704621Z\", \"durationInMs\": 0.0771},{\"event\": \"Completed\", \"startTimeUtc\": \"2024-10-09T23:45:59.7705392Z\", \"durationInMs\": 0}],\"serviceEndpointStats\":{\"inflightRequests\":1,\"openConnections\":1},\"connectionStats\":{\"waitforConnectionInit\":\"False\",\"callsPendingReceive\":0,\"lastSendAttempt\":\"2024-10-09T23:45:33.9418751Z\",\"lastSend\":\"2024-10-09T23:45:33.9418988Z\",\"lastReceive\":\"2024-10-09T23:45:33.9489076Z\"},\"requestSizeInBytes\":516,\"responseMetadataSizeInBytes\":182,\"responseBodySizeInBytes\":87};\r\n ResourceType: Document, OperationType: Delete\r\n, Microsoft.Azure.Documents.Common/2.14.0\nCode: NotFound\nMessage: Entity with the specified id does not exist in the system. More info: https://aka.ms/cosmosdb-tsg-not-found, \r\nRequestStartTime: 2024-10-09T23:45:59.7681848Z, RequestEndTime: 2024-10-09T23:45:59.7705497Z,  Number of regions attempted:1\r\n{\"systemHistory\":[{\"dateUtc\":\"2024-10-09T23:45:03.3331776Z\",\"cpu\":0.183,\"memory\":417973940.000,\"threadInfo\":{\"isThreadStarving\":\"False\",\"threadWaitIntervalInMs\":0.0549,\"availableThreads\":32765,\"minThreads\":64,\"maxThreads\":32767},\"numberOfOpenTcpConnection\":734},{\"dateUtc\":\"2024-10-09T23:45:13.3431354Z\",\"cpu\":0.509,\"memory\":417975420.000,\"threadInfo\":{\"isThreadStarving\":\"False\",\"threadWaitIntervalInMs\":0.0264,\"availableThreads\":32765,\"minThreads\":64,\"maxThreads\":32767},\"numberOfOpenTcpConnection\":734},{\"dateUtc\":\"2024-10-09T23:45:23.3530868Z\",\"cpu\":0.283,\"memory\":417993244.000,\"threadInfo\":{\"isThreadStarving\":\"False\",\"threadWaitIntervalInMs\":0.0426,\"availableThreads\":32765,\"minThreads\":64,\"maxThreads\":32767},\"numberOfOpenTcpConnection\":736},{\"dateUtc\":\"2024-10-09T23:45:33.3629961Z\",\"cpu\":0.095,\"memory\":417993300.000,\"threadInfo\":{\"isThreadStarving\":\"False\",\"threadWaitIntervalInMs\":0.0593,\"availableThreads\":32765,\"minThreads\":64,\"maxThreads\":32767},\"numberOfOpenTcpConnection\":718},{\"dateUtc\":\"2024-10-09T23:45:43.3729529Z\",\"cpu\":0.134,\"memory\":417928208.000,\"threadInfo\":{\"isThreadStarving\":\"False\",\"threadWaitIntervalInMs\":0.0472,\"availableThreads\":32764,\"minThreads\":64,\"maxThreads\":32767},\"numberOfOpenTcpConnection\":718},{\"dateUtc\":\"2024-10-09T23:45:53.3828727Z\",\"cpu\":0.224,\"memory\":417929544.000,\"threadInfo\":{\"isThreadStarving\":\"False\",\"threadWaitIntervalInMs\":0.0545,\"availableThreads\":32764,\"minThreads\":64,\"maxThreads\":32767},\"numberOfOpenTcpConnection\":722}]}\r\nRequestStart: 2024-10-09T23:45:59.7682765Z; ResponseTime: 2024-10-09T23:45:59.7705497Z; StoreResult: StorePhysicalAddress: rntbd://cdb-ms-prod-eastus1-be118.documents.azure.com:14366/apps/b889ad78-40a8-4b9b-8d8d-dd8646969592/services/b06411b7-91e4-4992-b8dd-b4587526b274/partitions/d5490a8e-69b9-455b-8161-277539f36f90/replicas/133728171011225651p/, LSN: 5, GlobalCommittedLsn: 5, PartitionKeyRangeId: 0, IsValid: True, StatusCode: 404, SubStatusCode: 0, RequestCharge: 1.24, ItemLSN: -1, SessionToken: -1#5, UsingLocalLSN: False, TransportException: null, BELatencyMs: 0.643, ActivityId: f4124dd6-9cce-4c06-a4c3-e638d13479a6, RetryAfterInMs: , ReplicaHealthStatuses: [(port: 14366 | status: Connected | lkt: 10/9/2024 11:25:44 PM)], TransportRequestTimeline: {\"requestTimeline\":[{\"event\": \"Created\", \"startTimeUtc\": \"2024-10-09T23:45:59.7682772Z\", \"durationInMs\": 0.0066},{\"event\": \"ChannelAcquisitionStarted\", \"startTimeUtc\": \"2024-10-09T23:45:59.7682838Z\", \"durationInMs\": 0.0084},{\"event\": \"Pipelined\", \"startTimeUtc\": \"2024-10-09T23:45:59.7682922Z\", \"durationInMs\": 0.0464},{\"event\": \"Transit Time\", \"startTimeUtc\": \"2024-10-09T23:45:59.7683386Z\", \"durationInMs\": 2.1235},{\"event\": \"Received\", \"startTimeUtc\": \"2024-10-09T23:45:59.7704621Z\", \"durationInMs\": 0.0771},{\"event\": \"Completed\", \"startTimeUtc\": \"2024-10-09T23:45:59.7705392Z\", \"durationInMs\": 0}],\"serviceEndpointStats\":{\"inflightRequests\":1,\"openConnections\":1},\"connectionStats\":{\"waitforConnectionInit\":\"False\",\"callsPendingReceive\":0,\"lastSendAttempt\":\"2024-10-09T23:45:33.9418751Z\",\"lastSend\":\"2024-10-09T23:45:33.9418988Z\",\"lastReceive\":\"2024-10-09T23:45:33.9489076Z\"},\"requestSizeInBytes\":516,\"responseMetadataSizeInBytes\":182,\"responseBodySizeInBytes\":87};\r\n ResourceType: Document, OperationType: Delete\r\n, Microsoft.Azure.Documents.Common/2.14.0",
     "output_type": "error",
     "traceback": [
      "\u001b[0;31m---------------------------------------------------------------------------\u001b[0m",
      "\u001b[0;31mCosmosResourceNotFoundError\u001b[0m               Traceback (most recent call last)",
      "Cell \u001b[0;32mIn[19], line 1\u001b[0m\n\u001b[0;32m----> 1\u001b[0m \u001b[43mcontainer\u001b[49m\u001b[38;5;241;43m.\u001b[39;49m\u001b[43mdelete_item\u001b[49m\u001b[43m(\u001b[49m\u001b[43mitem\u001b[49m\u001b[38;5;241;43m=\u001b[39;49m\u001b[38;5;124;43m\"\u001b[39;49m\u001b[38;5;124;43m2\u001b[39;49m\u001b[38;5;124;43m\"\u001b[39;49m\u001b[43m,\u001b[49m\u001b[43m \u001b[49m\u001b[43mpartition_key\u001b[49m\u001b[38;5;241;43m=\u001b[39;49m\u001b[38;5;124;43m'\u001b[39;49m\u001b[38;5;124;43m1\u001b[39;49m\u001b[38;5;124;43m'\u001b[39;49m\u001b[43m)\u001b[49m\n",
      "File \u001b[0;32m/usr/local/python/3.12.1/lib/python3.12/site-packages/azure/core/tracing/decorator.py:94\u001b[0m, in \u001b[0;36mdistributed_trace.<locals>.decorator.<locals>.wrapper_use_tracer\u001b[0;34m(*args, **kwargs)\u001b[0m\n\u001b[1;32m     92\u001b[0m span_impl_type \u001b[38;5;241m=\u001b[39m settings\u001b[38;5;241m.\u001b[39mtracing_implementation()\n\u001b[1;32m     93\u001b[0m \u001b[38;5;28;01mif\u001b[39;00m span_impl_type \u001b[38;5;129;01mis\u001b[39;00m \u001b[38;5;28;01mNone\u001b[39;00m:\n\u001b[0;32m---> 94\u001b[0m     \u001b[38;5;28;01mreturn\u001b[39;00m \u001b[43mfunc\u001b[49m\u001b[43m(\u001b[49m\u001b[38;5;241;43m*\u001b[39;49m\u001b[43margs\u001b[49m\u001b[43m,\u001b[49m\u001b[43m \u001b[49m\u001b[38;5;241;43m*\u001b[39;49m\u001b[38;5;241;43m*\u001b[39;49m\u001b[43mkwargs\u001b[49m\u001b[43m)\u001b[49m\n\u001b[1;32m     96\u001b[0m \u001b[38;5;66;03m# Merge span is parameter is set, but only if no explicit parent are passed\u001b[39;00m\n\u001b[1;32m     97\u001b[0m \u001b[38;5;28;01mif\u001b[39;00m merge_span \u001b[38;5;129;01mand\u001b[39;00m \u001b[38;5;129;01mnot\u001b[39;00m passed_in_parent:\n",
      "File \u001b[0;32m/usr/local/python/3.12.1/lib/python3.12/site-packages/azure/cosmos/container.py:890\u001b[0m, in \u001b[0;36mContainerProxy.delete_item\u001b[0;34m(self, item, partition_key, populate_query_metrics, pre_trigger_include, post_trigger_include, session_token, initial_headers, etag, match_condition, priority, **kwargs)\u001b[0m\n\u001b[1;32m    887\u001b[0m     request_options[\u001b[38;5;124m\"\u001b[39m\u001b[38;5;124mpostTriggerInclude\u001b[39m\u001b[38;5;124m\"\u001b[39m] \u001b[38;5;241m=\u001b[39m post_trigger_include\n\u001b[1;32m    889\u001b[0m document_link \u001b[38;5;241m=\u001b[39m \u001b[38;5;28mself\u001b[39m\u001b[38;5;241m.\u001b[39m_get_document_link(item)\n\u001b[0;32m--> 890\u001b[0m \u001b[38;5;28;43mself\u001b[39;49m\u001b[38;5;241;43m.\u001b[39;49m\u001b[43mclient_connection\u001b[49m\u001b[38;5;241;43m.\u001b[39;49m\u001b[43mDeleteItem\u001b[49m\u001b[43m(\u001b[49m\u001b[43mdocument_link\u001b[49m\u001b[38;5;241;43m=\u001b[39;49m\u001b[43mdocument_link\u001b[49m\u001b[43m,\u001b[49m\u001b[43m \u001b[49m\u001b[43moptions\u001b[49m\u001b[38;5;241;43m=\u001b[39;49m\u001b[43mrequest_options\u001b[49m\u001b[43m,\u001b[49m\u001b[43m \u001b[49m\u001b[38;5;241;43m*\u001b[39;49m\u001b[38;5;241;43m*\u001b[39;49m\u001b[43mkwargs\u001b[49m\u001b[43m)\u001b[49m\n",
      "File \u001b[0;32m/usr/local/python/3.12.1/lib/python3.12/site-packages/azure/cosmos/_cosmos_client_connection.py:2130\u001b[0m, in \u001b[0;36mCosmosClientConnection.DeleteItem\u001b[0;34m(self, document_link, options, **kwargs)\u001b[0m\n\u001b[1;32m   2128\u001b[0m path \u001b[38;5;241m=\u001b[39m base\u001b[38;5;241m.\u001b[39mGetPathFromLink(document_link)\n\u001b[1;32m   2129\u001b[0m document_id \u001b[38;5;241m=\u001b[39m base\u001b[38;5;241m.\u001b[39mGetResourceIdOrFullNameFromLink(document_link)\n\u001b[0;32m-> 2130\u001b[0m \u001b[38;5;28;43mself\u001b[39;49m\u001b[38;5;241;43m.\u001b[39;49m\u001b[43mDeleteResource\u001b[49m\u001b[43m(\u001b[49m\u001b[43mpath\u001b[49m\u001b[43m,\u001b[49m\u001b[43m \u001b[49m\u001b[38;5;124;43m\"\u001b[39;49m\u001b[38;5;124;43mdocs\u001b[39;49m\u001b[38;5;124;43m\"\u001b[39;49m\u001b[43m,\u001b[49m\u001b[43m \u001b[49m\u001b[43mdocument_id\u001b[49m\u001b[43m,\u001b[49m\u001b[43m \u001b[49m\u001b[38;5;28;43;01mNone\u001b[39;49;00m\u001b[43m,\u001b[49m\u001b[43m \u001b[49m\u001b[43moptions\u001b[49m\u001b[43m,\u001b[49m\u001b[43m \u001b[49m\u001b[38;5;241;43m*\u001b[39;49m\u001b[38;5;241;43m*\u001b[39;49m\u001b[43mkwargs\u001b[49m\u001b[43m)\u001b[49m\n",
      "File \u001b[0;32m/usr/local/python/3.12.1/lib/python3.12/site-packages/azure/cosmos/_cosmos_client_connection.py:2758\u001b[0m, in \u001b[0;36mCosmosClientConnection.DeleteResource\u001b[0;34m(self, path, typ, id, initial_headers, options, **kwargs)\u001b[0m\n\u001b[1;32m   2756\u001b[0m \u001b[38;5;66;03m# Delete will use WriteEndpoint since it uses DELETE operation\u001b[39;00m\n\u001b[1;32m   2757\u001b[0m request_params \u001b[38;5;241m=\u001b[39m RequestObject(typ, documents\u001b[38;5;241m.\u001b[39m_OperationType\u001b[38;5;241m.\u001b[39mDelete)\n\u001b[0;32m-> 2758\u001b[0m result, last_response_headers \u001b[38;5;241m=\u001b[39m \u001b[38;5;28;43mself\u001b[39;49m\u001b[38;5;241;43m.\u001b[39;49m\u001b[43m__Delete\u001b[49m\u001b[43m(\u001b[49m\u001b[43mpath\u001b[49m\u001b[43m,\u001b[49m\u001b[43m \u001b[49m\u001b[43mrequest_params\u001b[49m\u001b[43m,\u001b[49m\u001b[43m \u001b[49m\u001b[43mheaders\u001b[49m\u001b[43m,\u001b[49m\u001b[43m \u001b[49m\u001b[38;5;241;43m*\u001b[39;49m\u001b[38;5;241;43m*\u001b[39;49m\u001b[43mkwargs\u001b[49m\u001b[43m)\u001b[49m\n\u001b[1;32m   2759\u001b[0m \u001b[38;5;28mself\u001b[39m\u001b[38;5;241m.\u001b[39mlast_response_headers \u001b[38;5;241m=\u001b[39m last_response_headers\n\u001b[1;32m   2761\u001b[0m \u001b[38;5;66;03m# update session for request mutates data on server side\u001b[39;00m\n",
      "File \u001b[0;32m/usr/local/python/3.12.1/lib/python3.12/site-packages/azure/cosmos/_cosmos_client_connection.py:2896\u001b[0m, in \u001b[0;36mCosmosClientConnection.__Delete\u001b[0;34m(self, path, request_params, req_headers, **kwargs)\u001b[0m\n\u001b[1;32m   2887\u001b[0m \u001b[38;5;250m\u001b[39m\u001b[38;5;124;03m\"\"\"Azure Cosmos 'DELETE' http request.\u001b[39;00m\n\u001b[1;32m   2888\u001b[0m \n\u001b[1;32m   2889\u001b[0m \u001b[38;5;124;03m:param str path: the url to be used for the request.\u001b[39;00m\n\u001b[0;32m   (...)\u001b[0m\n\u001b[1;32m   2893\u001b[0m \u001b[38;5;124;03m:rtype: tuple of (dict, dict)\u001b[39;00m\n\u001b[1;32m   2894\u001b[0m \u001b[38;5;124;03m\"\"\"\u001b[39;00m\n\u001b[1;32m   2895\u001b[0m request \u001b[38;5;241m=\u001b[39m \u001b[38;5;28mself\u001b[39m\u001b[38;5;241m.\u001b[39mpipeline_client\u001b[38;5;241m.\u001b[39mdelete(url\u001b[38;5;241m=\u001b[39mpath, headers\u001b[38;5;241m=\u001b[39mreq_headers)\n\u001b[0;32m-> 2896\u001b[0m \u001b[38;5;28;01mreturn\u001b[39;00m \u001b[43msynchronized_request\u001b[49m\u001b[38;5;241;43m.\u001b[39;49m\u001b[43mSynchronizedRequest\u001b[49m\u001b[43m(\u001b[49m\n\u001b[1;32m   2897\u001b[0m \u001b[43m    \u001b[49m\u001b[43mclient\u001b[49m\u001b[38;5;241;43m=\u001b[39;49m\u001b[38;5;28;43mself\u001b[39;49m\u001b[43m,\u001b[49m\n\u001b[1;32m   2898\u001b[0m \u001b[43m    \u001b[49m\u001b[43mrequest_params\u001b[49m\u001b[38;5;241;43m=\u001b[39;49m\u001b[43mrequest_params\u001b[49m\u001b[43m,\u001b[49m\n\u001b[1;32m   2899\u001b[0m \u001b[43m    \u001b[49m\u001b[43mglobal_endpoint_manager\u001b[49m\u001b[38;5;241;43m=\u001b[39;49m\u001b[38;5;28;43mself\u001b[39;49m\u001b[38;5;241;43m.\u001b[39;49m\u001b[43m_global_endpoint_manager\u001b[49m\u001b[43m,\u001b[49m\n\u001b[1;32m   2900\u001b[0m \u001b[43m    \u001b[49m\u001b[43mconnection_policy\u001b[49m\u001b[38;5;241;43m=\u001b[39;49m\u001b[38;5;28;43mself\u001b[39;49m\u001b[38;5;241;43m.\u001b[39;49m\u001b[43mconnection_policy\u001b[49m\u001b[43m,\u001b[49m\n\u001b[1;32m   2901\u001b[0m \u001b[43m    \u001b[49m\u001b[43mpipeline_client\u001b[49m\u001b[38;5;241;43m=\u001b[39;49m\u001b[38;5;28;43mself\u001b[39;49m\u001b[38;5;241;43m.\u001b[39;49m\u001b[43mpipeline_client\u001b[49m\u001b[43m,\u001b[49m\n\u001b[1;32m   2902\u001b[0m \u001b[43m    \u001b[49m\u001b[43mrequest\u001b[49m\u001b[38;5;241;43m=\u001b[39;49m\u001b[43mrequest\u001b[49m\u001b[43m,\u001b[49m\n\u001b[1;32m   2903\u001b[0m \u001b[43m    \u001b[49m\u001b[43mrequest_data\u001b[49m\u001b[38;5;241;43m=\u001b[39;49m\u001b[38;5;28;43;01mNone\u001b[39;49;00m\u001b[43m,\u001b[49m\n\u001b[1;32m   2904\u001b[0m \u001b[43m    \u001b[49m\u001b[38;5;241;43m*\u001b[39;49m\u001b[38;5;241;43m*\u001b[39;49m\u001b[43mkwargs\u001b[49m\n\u001b[1;32m   2905\u001b[0m \u001b[43m\u001b[49m\u001b[43m)\u001b[49m\n",
      "File \u001b[0;32m/usr/local/python/3.12.1/lib/python3.12/site-packages/azure/cosmos/_synchronized_request.py:204\u001b[0m, in \u001b[0;36mSynchronizedRequest\u001b[0;34m(client, request_params, global_endpoint_manager, connection_policy, pipeline_client, request, request_data, **kwargs)\u001b[0m\n\u001b[1;32m    201\u001b[0m     request\u001b[38;5;241m.\u001b[39mheaders[http_constants\u001b[38;5;241m.\u001b[39mHttpHeaders\u001b[38;5;241m.\u001b[39mContentLength] \u001b[38;5;241m=\u001b[39m \u001b[38;5;241m0\u001b[39m\n\u001b[1;32m    203\u001b[0m \u001b[38;5;66;03m# Pass _Request function with its parameters to retry_utility's Execute method that wraps the call with retries\u001b[39;00m\n\u001b[0;32m--> 204\u001b[0m \u001b[38;5;28;01mreturn\u001b[39;00m \u001b[43m_retry_utility\u001b[49m\u001b[38;5;241;43m.\u001b[39;49m\u001b[43mExecute\u001b[49m\u001b[43m(\u001b[49m\n\u001b[1;32m    205\u001b[0m \u001b[43m    \u001b[49m\u001b[43mclient\u001b[49m\u001b[43m,\u001b[49m\n\u001b[1;32m    206\u001b[0m \u001b[43m    \u001b[49m\u001b[43mglobal_endpoint_manager\u001b[49m\u001b[43m,\u001b[49m\n\u001b[1;32m    207\u001b[0m \u001b[43m    \u001b[49m\u001b[43m_Request\u001b[49m\u001b[43m,\u001b[49m\n\u001b[1;32m    208\u001b[0m \u001b[43m    \u001b[49m\u001b[43mrequest_params\u001b[49m\u001b[43m,\u001b[49m\n\u001b[1;32m    209\u001b[0m \u001b[43m    \u001b[49m\u001b[43mconnection_policy\u001b[49m\u001b[43m,\u001b[49m\n\u001b[1;32m    210\u001b[0m \u001b[43m    \u001b[49m\u001b[43mpipeline_client\u001b[49m\u001b[43m,\u001b[49m\n\u001b[1;32m    211\u001b[0m \u001b[43m    \u001b[49m\u001b[43mrequest\u001b[49m\u001b[43m,\u001b[49m\n\u001b[1;32m    212\u001b[0m \u001b[43m    \u001b[49m\u001b[38;5;241;43m*\u001b[39;49m\u001b[38;5;241;43m*\u001b[39;49m\u001b[43mkwargs\u001b[49m\n\u001b[1;32m    213\u001b[0m \u001b[43m\u001b[49m\u001b[43m)\u001b[49m\n",
      "File \u001b[0;32m/usr/local/python/3.12.1/lib/python3.12/site-packages/azure/cosmos/_retry_utility.py:85\u001b[0m, in \u001b[0;36mExecute\u001b[0;34m(client, global_endpoint_manager, function, *args, **kwargs)\u001b[0m\n\u001b[1;32m     83\u001b[0m \u001b[38;5;28;01mtry\u001b[39;00m:\n\u001b[1;32m     84\u001b[0m     \u001b[38;5;28;01mif\u001b[39;00m args:\n\u001b[0;32m---> 85\u001b[0m         result \u001b[38;5;241m=\u001b[39m \u001b[43mExecuteFunction\u001b[49m\u001b[43m(\u001b[49m\u001b[43mfunction\u001b[49m\u001b[43m,\u001b[49m\u001b[43m \u001b[49m\u001b[43mglobal_endpoint_manager\u001b[49m\u001b[43m,\u001b[49m\u001b[43m \u001b[49m\u001b[38;5;241;43m*\u001b[39;49m\u001b[43margs\u001b[49m\u001b[43m,\u001b[49m\u001b[43m \u001b[49m\u001b[38;5;241;43m*\u001b[39;49m\u001b[38;5;241;43m*\u001b[39;49m\u001b[43mkwargs\u001b[49m\u001b[43m)\u001b[49m\n\u001b[1;32m     86\u001b[0m     \u001b[38;5;28;01melse\u001b[39;00m:\n\u001b[1;32m     87\u001b[0m         result \u001b[38;5;241m=\u001b[39m ExecuteFunction(function, \u001b[38;5;241m*\u001b[39margs, \u001b[38;5;241m*\u001b[39m\u001b[38;5;241m*\u001b[39mkwargs)\n",
      "File \u001b[0;32m/usr/local/python/3.12.1/lib/python3.12/site-packages/azure/cosmos/_retry_utility.py:149\u001b[0m, in \u001b[0;36mExecuteFunction\u001b[0;34m(function, *args, **kwargs)\u001b[0m\n\u001b[1;32m    142\u001b[0m \u001b[38;5;28;01mdef\u001b[39;00m \u001b[38;5;21mExecuteFunction\u001b[39m(function, \u001b[38;5;241m*\u001b[39margs, \u001b[38;5;241m*\u001b[39m\u001b[38;5;241m*\u001b[39mkwargs):\n\u001b[1;32m    143\u001b[0m \u001b[38;5;250m    \u001b[39m\u001b[38;5;124;03m\"\"\"Stub method so that it can be used for mocking purposes as well.\u001b[39;00m\n\u001b[1;32m    144\u001b[0m \u001b[38;5;124;03m    :param Callable function: the function to execute.\u001b[39;00m\n\u001b[1;32m    145\u001b[0m \u001b[38;5;124;03m    :param list args: the explicit arguments for the function.\u001b[39;00m\n\u001b[1;32m    146\u001b[0m \u001b[38;5;124;03m    :returns: the result of executing the function with the passed in arguments\u001b[39;00m\n\u001b[1;32m    147\u001b[0m \u001b[38;5;124;03m    :rtype: tuple(dict, dict)\u001b[39;00m\n\u001b[1;32m    148\u001b[0m \u001b[38;5;124;03m    \"\"\"\u001b[39;00m\n\u001b[0;32m--> 149\u001b[0m     \u001b[38;5;28;01mreturn\u001b[39;00m \u001b[43mfunction\u001b[49m\u001b[43m(\u001b[49m\u001b[38;5;241;43m*\u001b[39;49m\u001b[43margs\u001b[49m\u001b[43m,\u001b[49m\u001b[43m \u001b[49m\u001b[38;5;241;43m*\u001b[39;49m\u001b[38;5;241;43m*\u001b[39;49m\u001b[43mkwargs\u001b[49m\u001b[43m)\u001b[49m\n",
      "File \u001b[0;32m/usr/local/python/3.12.1/lib/python3.12/site-packages/azure/cosmos/_synchronized_request.py:149\u001b[0m, in \u001b[0;36m_Request\u001b[0;34m(global_endpoint_manager, request_params, connection_policy, pipeline_client, request, **kwargs)\u001b[0m\n\u001b[1;32m    146\u001b[0m     data \u001b[38;5;241m=\u001b[39m data\u001b[38;5;241m.\u001b[39mdecode(\u001b[38;5;124m\"\u001b[39m\u001b[38;5;124mutf-8\u001b[39m\u001b[38;5;124m\"\u001b[39m)\n\u001b[1;32m    148\u001b[0m \u001b[38;5;28;01mif\u001b[39;00m response\u001b[38;5;241m.\u001b[39mstatus_code \u001b[38;5;241m==\u001b[39m \u001b[38;5;241m404\u001b[39m:\n\u001b[0;32m--> 149\u001b[0m     \u001b[38;5;28;01mraise\u001b[39;00m exceptions\u001b[38;5;241m.\u001b[39mCosmosResourceNotFoundError(message\u001b[38;5;241m=\u001b[39mdata, response\u001b[38;5;241m=\u001b[39mresponse)\n\u001b[1;32m    150\u001b[0m \u001b[38;5;28;01mif\u001b[39;00m response\u001b[38;5;241m.\u001b[39mstatus_code \u001b[38;5;241m==\u001b[39m \u001b[38;5;241m409\u001b[39m:\n\u001b[1;32m    151\u001b[0m     \u001b[38;5;28;01mraise\u001b[39;00m exceptions\u001b[38;5;241m.\u001b[39mCosmosResourceExistsError(message\u001b[38;5;241m=\u001b[39mdata, response\u001b[38;5;241m=\u001b[39mresponse)\n",
      "\u001b[0;31mCosmosResourceNotFoundError\u001b[0m: (NotFound) Entity with the specified id does not exist in the system. More info: https://aka.ms/cosmosdb-tsg-not-found, \r\nRequestStartTime: 2024-10-09T23:45:59.7681848Z, RequestEndTime: 2024-10-09T23:45:59.7705497Z,  Number of regions attempted:1\r\n{\"systemHistory\":[{\"dateUtc\":\"2024-10-09T23:45:03.3331776Z\",\"cpu\":0.183,\"memory\":417973940.000,\"threadInfo\":{\"isThreadStarving\":\"False\",\"threadWaitIntervalInMs\":0.0549,\"availableThreads\":32765,\"minThreads\":64,\"maxThreads\":32767},\"numberOfOpenTcpConnection\":734},{\"dateUtc\":\"2024-10-09T23:45:13.3431354Z\",\"cpu\":0.509,\"memory\":417975420.000,\"threadInfo\":{\"isThreadStarving\":\"False\",\"threadWaitIntervalInMs\":0.0264,\"availableThreads\":32765,\"minThreads\":64,\"maxThreads\":32767},\"numberOfOpenTcpConnection\":734},{\"dateUtc\":\"2024-10-09T23:45:23.3530868Z\",\"cpu\":0.283,\"memory\":417993244.000,\"threadInfo\":{\"isThreadStarving\":\"False\",\"threadWaitIntervalInMs\":0.0426,\"availableThreads\":32765,\"minThreads\":64,\"maxThreads\":32767},\"numberOfOpenTcpConnection\":736},{\"dateUtc\":\"2024-10-09T23:45:33.3629961Z\",\"cpu\":0.095,\"memory\":417993300.000,\"threadInfo\":{\"isThreadStarving\":\"False\",\"threadWaitIntervalInMs\":0.0593,\"availableThreads\":32765,\"minThreads\":64,\"maxThreads\":32767},\"numberOfOpenTcpConnection\":718},{\"dateUtc\":\"2024-10-09T23:45:43.3729529Z\",\"cpu\":0.134,\"memory\":417928208.000,\"threadInfo\":{\"isThreadStarving\":\"False\",\"threadWaitIntervalInMs\":0.0472,\"availableThreads\":32764,\"minThreads\":64,\"maxThreads\":32767},\"numberOfOpenTcpConnection\":718},{\"dateUtc\":\"2024-10-09T23:45:53.3828727Z\",\"cpu\":0.224,\"memory\":417929544.000,\"threadInfo\":{\"isThreadStarving\":\"False\",\"threadWaitIntervalInMs\":0.0545,\"availableThreads\":32764,\"minThreads\":64,\"maxThreads\":32767},\"numberOfOpenTcpConnection\":722}]}\r\nRequestStart: 2024-10-09T23:45:59.7682765Z; ResponseTime: 2024-10-09T23:45:59.7705497Z; StoreResult: StorePhysicalAddress: rntbd://cdb-ms-prod-eastus1-be118.documents.azure.com:14366/apps/b889ad78-40a8-4b9b-8d8d-dd8646969592/services/b06411b7-91e4-4992-b8dd-b4587526b274/partitions/d5490a8e-69b9-455b-8161-277539f36f90/replicas/133728171011225651p/, LSN: 5, GlobalCommittedLsn: 5, PartitionKeyRangeId: 0, IsValid: True, StatusCode: 404, SubStatusCode: 0, RequestCharge: 1.24, ItemLSN: -1, SessionToken: -1#5, UsingLocalLSN: False, TransportException: null, BELatencyMs: 0.643, ActivityId: f4124dd6-9cce-4c06-a4c3-e638d13479a6, RetryAfterInMs: , ReplicaHealthStatuses: [(port: 14366 | status: Connected | lkt: 10/9/2024 11:25:44 PM)], TransportRequestTimeline: {\"requestTimeline\":[{\"event\": \"Created\", \"startTimeUtc\": \"2024-10-09T23:45:59.7682772Z\", \"durationInMs\": 0.0066},{\"event\": \"ChannelAcquisitionStarted\", \"startTimeUtc\": \"2024-10-09T23:45:59.7682838Z\", \"durationInMs\": 0.0084},{\"event\": \"Pipelined\", \"startTimeUtc\": \"2024-10-09T23:45:59.7682922Z\", \"durationInMs\": 0.0464},{\"event\": \"Transit Time\", \"startTimeUtc\": \"2024-10-09T23:45:59.7683386Z\", \"durationInMs\": 2.1235},{\"event\": \"Received\", \"startTimeUtc\": \"2024-10-09T23:45:59.7704621Z\", \"durationInMs\": 0.0771},{\"event\": \"Completed\", \"startTimeUtc\": \"2024-10-09T23:45:59.7705392Z\", \"durationInMs\": 0}],\"serviceEndpointStats\":{\"inflightRequests\":1,\"openConnections\":1},\"connectionStats\":{\"waitforConnectionInit\":\"False\",\"callsPendingReceive\":0,\"lastSendAttempt\":\"2024-10-09T23:45:33.9418751Z\",\"lastSend\":\"2024-10-09T23:45:33.9418988Z\",\"lastReceive\":\"2024-10-09T23:45:33.9489076Z\"},\"requestSizeInBytes\":516,\"responseMetadataSizeInBytes\":182,\"responseBodySizeInBytes\":87};\r\n ResourceType: Document, OperationType: Delete\r\n, Microsoft.Azure.Documents.Common/2.14.0\nCode: NotFound\nMessage: Entity with the specified id does not exist in the system. More info: https://aka.ms/cosmosdb-tsg-not-found, \r\nRequestStartTime: 2024-10-09T23:45:59.7681848Z, RequestEndTime: 2024-10-09T23:45:59.7705497Z,  Number of regions attempted:1\r\n{\"systemHistory\":[{\"dateUtc\":\"2024-10-09T23:45:03.3331776Z\",\"cpu\":0.183,\"memory\":417973940.000,\"threadInfo\":{\"isThreadStarving\":\"False\",\"threadWaitIntervalInMs\":0.0549,\"availableThreads\":32765,\"minThreads\":64,\"maxThreads\":32767},\"numberOfOpenTcpConnection\":734},{\"dateUtc\":\"2024-10-09T23:45:13.3431354Z\",\"cpu\":0.509,\"memory\":417975420.000,\"threadInfo\":{\"isThreadStarving\":\"False\",\"threadWaitIntervalInMs\":0.0264,\"availableThreads\":32765,\"minThreads\":64,\"maxThreads\":32767},\"numberOfOpenTcpConnection\":734},{\"dateUtc\":\"2024-10-09T23:45:23.3530868Z\",\"cpu\":0.283,\"memory\":417993244.000,\"threadInfo\":{\"isThreadStarving\":\"False\",\"threadWaitIntervalInMs\":0.0426,\"availableThreads\":32765,\"minThreads\":64,\"maxThreads\":32767},\"numberOfOpenTcpConnection\":736},{\"dateUtc\":\"2024-10-09T23:45:33.3629961Z\",\"cpu\":0.095,\"memory\":417993300.000,\"threadInfo\":{\"isThreadStarving\":\"False\",\"threadWaitIntervalInMs\":0.0593,\"availableThreads\":32765,\"minThreads\":64,\"maxThreads\":32767},\"numberOfOpenTcpConnection\":718},{\"dateUtc\":\"2024-10-09T23:45:43.3729529Z\",\"cpu\":0.134,\"memory\":417928208.000,\"threadInfo\":{\"isThreadStarving\":\"False\",\"threadWaitIntervalInMs\":0.0472,\"availableThreads\":32764,\"minThreads\":64,\"maxThreads\":32767},\"numberOfOpenTcpConnection\":718},{\"dateUtc\":\"2024-10-09T23:45:53.3828727Z\",\"cpu\":0.224,\"memory\":417929544.000,\"threadInfo\":{\"isThreadStarving\":\"False\",\"threadWaitIntervalInMs\":0.0545,\"availableThreads\":32764,\"minThreads\":64,\"maxThreads\":32767},\"numberOfOpenTcpConnection\":722}]}\r\nRequestStart: 2024-10-09T23:45:59.7682765Z; ResponseTime: 2024-10-09T23:45:59.7705497Z; StoreResult: StorePhysicalAddress: rntbd://cdb-ms-prod-eastus1-be118.documents.azure.com:14366/apps/b889ad78-40a8-4b9b-8d8d-dd8646969592/services/b06411b7-91e4-4992-b8dd-b4587526b274/partitions/d5490a8e-69b9-455b-8161-277539f36f90/replicas/133728171011225651p/, LSN: 5, GlobalCommittedLsn: 5, PartitionKeyRangeId: 0, IsValid: True, StatusCode: 404, SubStatusCode: 0, RequestCharge: 1.24, ItemLSN: -1, SessionToken: -1#5, UsingLocalLSN: False, TransportException: null, BELatencyMs: 0.643, ActivityId: f4124dd6-9cce-4c06-a4c3-e638d13479a6, RetryAfterInMs: , ReplicaHealthStatuses: [(port: 14366 | status: Connected | lkt: 10/9/2024 11:25:44 PM)], TransportRequestTimeline: {\"requestTimeline\":[{\"event\": \"Created\", \"startTimeUtc\": \"2024-10-09T23:45:59.7682772Z\", \"durationInMs\": 0.0066},{\"event\": \"ChannelAcquisitionStarted\", \"startTimeUtc\": \"2024-10-09T23:45:59.7682838Z\", \"durationInMs\": 0.0084},{\"event\": \"Pipelined\", \"startTimeUtc\": \"2024-10-09T23:45:59.7682922Z\", \"durationInMs\": 0.0464},{\"event\": \"Transit Time\", \"startTimeUtc\": \"2024-10-09T23:45:59.7683386Z\", \"durationInMs\": 2.1235},{\"event\": \"Received\", \"startTimeUtc\": \"2024-10-09T23:45:59.7704621Z\", \"durationInMs\": 0.0771},{\"event\": \"Completed\", \"startTimeUtc\": \"2024-10-09T23:45:59.7705392Z\", \"durationInMs\": 0}],\"serviceEndpointStats\":{\"inflightRequests\":1,\"openConnections\":1},\"connectionStats\":{\"waitforConnectionInit\":\"False\",\"callsPendingReceive\":0,\"lastSendAttempt\":\"2024-10-09T23:45:33.9418751Z\",\"lastSend\":\"2024-10-09T23:45:33.9418988Z\",\"lastReceive\":\"2024-10-09T23:45:33.9489076Z\"},\"requestSizeInBytes\":516,\"responseMetadataSizeInBytes\":182,\"responseBodySizeInBytes\":87};\r\n ResourceType: Document, OperationType: Delete\r\n, Microsoft.Azure.Documents.Common/2.14.0"
     ]
    }
   ],
   "source": [
    "container.delete_item(item=\"2\", partition_key='1')"
   ]
  },
  {
   "cell_type": "code",
   "execution_count": null,
   "metadata": {},
   "outputs": [],
   "source": []
  }
 ],
 "metadata": {
  "kernelspec": {
   "display_name": "Python 3",
   "language": "python",
   "name": "python3"
  },
  "language_info": {
   "codemirror_mode": {
    "name": "ipython",
    "version": 3
   },
   "file_extension": ".py",
   "mimetype": "text/x-python",
   "name": "python",
   "nbconvert_exporter": "python",
   "pygments_lexer": "ipython3",
   "version": "3.12.1"
  }
 },
 "nbformat": 4,
 "nbformat_minor": 2
}
