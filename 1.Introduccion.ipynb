{
 "cells": [
  {
   "cell_type": "code",
   "execution_count": 3,
   "metadata": {},
   "outputs": [
    {
     "name": "stdout",
     "output_type": "stream",
     "text": [
      "Hola Mundo\n",
      "Salir de IF\n"
     ]
    }
   ],
   "source": [
    "# Indentacion\n",
    "\n",
    "print('Hola Mundo')\n",
    "\n",
    "if 1==2 :\n",
    "    print(\"Condicion es correcta\")\n",
    "    print(\"Condicion1\")\n",
    "\n",
    "print(\"Salir de IF\")\n"
   ]
  },
  {
   "cell_type": "code",
   "execution_count": 8,
   "metadata": {},
   "outputs": [],
   "source": [
    "variable1 = 5\n",
    "variable2 =\"Manzana\"\n",
    "variable3 = 3.5"
   ]
  },
  {
   "cell_type": "code",
   "execution_count": 10,
   "metadata": {},
   "outputs": [
    {
     "name": "stdout",
     "output_type": "stream",
     "text": [
      "Manzana\n"
     ]
    }
   ],
   "source": [
    "print(variable2)"
   ]
  },
  {
   "cell_type": "code",
   "execution_count": 11,
   "metadata": {},
   "outputs": [
    {
     "data": {
      "text/plain": [
       "complex"
      ]
     },
     "execution_count": 11,
     "metadata": {},
     "output_type": "execute_result"
    }
   ],
   "source": [
    "var_compleja = 3.14j\n",
    "\n",
    "type(var_compleja)"
   ]
  },
  {
   "cell_type": "code",
   "execution_count": 12,
   "metadata": {},
   "outputs": [],
   "source": [
    "# Listas\n",
    "\n",
    "var_lista = [3, 5, 7] # lista enteros\n",
    "var_lista_vacio = [] # lista vacia\n",
    "var_lista_mixta = [1, \"Manzana\", 44.4j] # lista mixta\n",
    "var_lista_anidada = [ 3, \"Manzana\", [2, 5, 7]]  # lista anidada\n"
   ]
  },
  {
   "cell_type": "code",
   "execution_count": 13,
   "metadata": {},
   "outputs": [
    {
     "data": {
      "text/plain": [
       "'Manzana'"
      ]
     },
     "execution_count": 13,
     "metadata": {},
     "output_type": "execute_result"
    }
   ],
   "source": [
    "var_lista_anidada[1]"
   ]
  },
  {
   "cell_type": "code",
   "execution_count": 15,
   "metadata": {},
   "outputs": [
    {
     "data": {
      "text/plain": [
       "5"
      ]
     },
     "execution_count": 15,
     "metadata": {},
     "output_type": "execute_result"
    }
   ],
   "source": [
    "var_lista_anidada[2][1]"
   ]
  },
  {
   "cell_type": "code",
   "execution_count": 17,
   "metadata": {},
   "outputs": [
    {
     "name": "stdout",
     "output_type": "stream",
     "text": [
      "6\n",
      "10\n",
      "14\n"
     ]
    }
   ],
   "source": [
    "for elemento in var_lista:\n",
    "    print(elemento*2)"
   ]
  },
  {
   "cell_type": "code",
   "execution_count": 20,
   "metadata": {},
   "outputs": [
    {
     "data": {
      "text/plain": [
       "dict"
      ]
     },
     "execution_count": 20,
     "metadata": {},
     "output_type": "execute_result"
    }
   ],
   "source": [
    "# Diccionarios\n",
    "'''\n",
    "{\n",
    "'key1': value1,\n",
    "'key2': value2\n",
    "}\n",
    "'''\n",
    "\n",
    "var_dict = {}\n",
    "var_dict_int = { 1: 'Manzana', 2: 'Pelota'}\n",
    "var_dict_mixta = { 1: 34, 'name': 'Juan'} \n",
    "var_dict_str = {'name': 'Juan','age': 26}\n",
    "\n",
    "var_dict = {'emails': ['asdf@mail.com', 'rtyui@mail.com']}\n",
    "\n",
    "\n",
    "type(var_dict)"
   ]
  },
  {
   "cell_type": "code",
   "execution_count": 34,
   "metadata": {},
   "outputs": [
    {
     "name": "stdout",
     "output_type": "stream",
     "text": [
      "Juan\n",
      "26\n"
     ]
    }
   ],
   "source": [
    "print(var_dict_str['name'])\n",
    "print(var_dict_str['age'])\n",
    "address = (var_dict_str['address'])"
   ]
  },
  {
   "cell_type": "code",
   "execution_count": null,
   "metadata": {},
   "outputs": [],
   "source": [
    "# var_dict_str.get('address') -> Devuelve None si address no existe \n",
    "# var_dict_str['address] -> da error si address no existe"
   ]
  },
  {
   "cell_type": "code",
   "execution_count": 28,
   "metadata": {},
   "outputs": [],
   "source": [
    "address = (var_dict_str.get('address'))"
   ]
  },
  {
   "cell_type": "code",
   "execution_count": 29,
   "metadata": {},
   "outputs": [],
   "source": [
    "var_dict_str['address'] = 'LIMA'"
   ]
  },
  {
   "cell_type": "code",
   "execution_count": 30,
   "metadata": {},
   "outputs": [
    {
     "name": "stdout",
     "output_type": "stream",
     "text": [
      "{'name': 'Juan', 'age': 26, 'address': 'LIMA'}\n"
     ]
    }
   ],
   "source": [
    "print(var_dict_str)"
   ]
  },
  {
   "cell_type": "code",
   "execution_count": 32,
   "metadata": {},
   "outputs": [
    {
     "name": "stdout",
     "output_type": "stream",
     "text": [
      "name ->  Juan\n",
      "age ->  26\n",
      "address ->  LIMA\n"
     ]
    }
   ],
   "source": [
    "for key in var_dict_str:\n",
    "    print(key, '-> ', var_dict_str[key])"
   ]
  },
  {
   "cell_type": "code",
   "execution_count": null,
   "metadata": {},
   "outputs": [],
   "source": [
    "# Funciones \n",
    "\n",
    "def read_table(tabla):\n",
    "    query = f\"SELECT * FROM {tabla}\"\n",
    "    return execute_query(query)\n",
    "\n",
    "var_prodcutos = read_table('productos')\n",
    "var_categorias = read_table('categorias')"
   ]
  },
  {
   "cell_type": "code",
   "execution_count": 37,
   "metadata": {},
   "outputs": [
    {
     "name": "stdout",
     "output_type": "stream",
     "text": [
      "15\n"
     ]
    }
   ],
   "source": [
    "def suma(a, b):\n",
    "    sum = a + b\n",
    "    return sum\n",
    "\n",
    "\n",
    "var1 = suma(-4, 19)\n",
    "print(var1)"
   ]
  },
  {
   "cell_type": "code",
   "execution_count": null,
   "metadata": {},
   "outputs": [],
   "source": []
  }
 ],
 "metadata": {
  "kernelspec": {
   "display_name": "Python 3",
   "language": "python",
   "name": "python3"
  },
  "language_info": {
   "codemirror_mode": {
    "name": "ipython",
    "version": 3
   },
   "file_extension": ".py",
   "mimetype": "text/x-python",
   "name": "python",
   "nbconvert_exporter": "python",
   "pygments_lexer": "ipython3",
   "version": "3.12.1"
  }
 },
 "nbformat": 4,
 "nbformat_minor": 2
}
