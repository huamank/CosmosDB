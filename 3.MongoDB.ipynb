{
 "cells": [
  {
   "cell_type": "code",
   "execution_count": 1,
   "metadata": {},
   "outputs": [
    {
     "name": "stdout",
     "output_type": "stream",
     "text": [
      "Requirement already satisfied: pymongo in /usr/local/python/3.12.1/lib/python3.12/site-packages (4.10.1)\n",
      "Requirement already satisfied: dnspython<3.0.0,>=1.16.0 in /usr/local/python/3.12.1/lib/python3.12/site-packages (from pymongo) (2.7.0)\n",
      "Note: you may need to restart the kernel to use updated packages.\n"
     ]
    }
   ],
   "source": [
    "pip install pymongo"
   ]
  },
  {
   "cell_type": "code",
   "execution_count": 9,
   "metadata": {},
   "outputs": [],
   "source": [
    "# \n",
    "CONNECTION_STRING = \"mongodb://acdbkrmmongodb:92vp7w2kME8eu72xjWaaVRPy4l9qOzm78mmiZyXS6xrlJq331iTQn0jXOaEYUqKSMyKir1TggSNSACDbbkbVSA==@acdbkrmmongodb.mongo.cosmos.azure.com:10255/?ssl=true&replicaSet=globaldb&retrywrites=false&maxIdleTimeMS=120000&appName=@acdbkrmmongodb@\""
   ]
  },
  {
   "cell_type": "code",
   "execution_count": 10,
   "metadata": {},
   "outputs": [],
   "source": [
    "from pymongo import MongoClient"
   ]
  },
  {
   "cell_type": "code",
   "execution_count": 11,
   "metadata": {},
   "outputs": [
    {
     "name": "stderr",
     "output_type": "stream",
     "text": [
      "/tmp/ipykernel_3093/3970916675.py:1: UserWarning: You appear to be connected to a CosmosDB cluster. For more information regarding feature compatibility and support please visit https://www.mongodb.com/supportability/cosmosdb\n",
      "  client = MongoClient(CONNECTION_STRING)\n"
     ]
    }
   ],
   "source": [
    "client = MongoClient(CONNECTION_STRING)"
   ]
  },
  {
   "cell_type": "code",
   "execution_count": 12,
   "metadata": {},
   "outputs": [],
   "source": [
    "db = client['Test']"
   ]
  },
  {
   "cell_type": "code",
   "execution_count": 13,
   "metadata": {},
   "outputs": [],
   "source": [
    "try:\n",
    "    collection = db.create_collection(\"retail\")\n",
    "except:\n",
    "    collection = db['retail']"
   ]
  },
  {
   "cell_type": "code",
   "execution_count": 14,
   "metadata": {},
   "outputs": [],
   "source": [
    "try:\n",
    "    collection.create_index('id', unique=True)\n",
    "except:\n",
    "    print(\"El indice ya fue creado\")"
   ]
  },
  {
   "cell_type": "code",
   "execution_count": 22,
   "metadata": {},
   "outputs": [],
   "source": [
    "documento = {\n",
    "    \"id\": \"4\",\n",
    "    \"nombre\": \"Producto A\",\n",
    "    \"descripcion\": \"Descripcion del producto A\",\n",
    "    \"precio\": 29.99,\n",
    "    \"categoria\": \"Electronica\"\n",
    "\n",
    "}"
   ]
  },
  {
   "cell_type": "code",
   "execution_count": 23,
   "metadata": {},
   "outputs": [
    {
     "data": {
      "text/plain": [
       "InsertOneResult(ObjectId('67072aff34bbe82ffe0286be'), acknowledged=True)"
      ]
     },
     "execution_count": 23,
     "metadata": {},
     "output_type": "execute_result"
    }
   ],
   "source": [
    "collection.insert_one(documento)"
   ]
  },
  {
   "cell_type": "code",
   "execution_count": 24,
   "metadata": {},
   "outputs": [],
   "source": [
    "documentos = [\n",
    "    {\n",
    "        \"id\": f\"producto_{i}\",\n",
    "        \"nombre\": f\"Producto {i}\",\n",
    "        \"descripcion\": \"Descripcion del producto {i}\",\n",
    "        \"precio\": 20 + i,\n",
    "        \"categoria\": \"Accesorios\"\n",
    "    }\n",
    "    for i in range(13, 25)\n",
    "]"
   ]
  },
  {
   "cell_type": "code",
   "execution_count": 25,
   "metadata": {},
   "outputs": [
    {
     "data": {
      "text/plain": [
       "InsertManyResult([ObjectId('67072b0b34bbe82ffe0286bf'), ObjectId('67072b0b34bbe82ffe0286c0'), ObjectId('67072b0b34bbe82ffe0286c1'), ObjectId('67072b0b34bbe82ffe0286c2'), ObjectId('67072b0b34bbe82ffe0286c3'), ObjectId('67072b0b34bbe82ffe0286c4'), ObjectId('67072b0b34bbe82ffe0286c5'), ObjectId('67072b0b34bbe82ffe0286c6'), ObjectId('67072b0b34bbe82ffe0286c7'), ObjectId('67072b0b34bbe82ffe0286c8'), ObjectId('67072b0b34bbe82ffe0286c9'), ObjectId('67072b0b34bbe82ffe0286ca')], acknowledged=True)"
      ]
     },
     "execution_count": 25,
     "metadata": {},
     "output_type": "execute_result"
    }
   ],
   "source": [
    "collection.insert_many(documentos, ordered=False)"
   ]
  },
  {
   "cell_type": "code",
   "execution_count": 18,
   "metadata": {},
   "outputs": [
    {
     "name": "stdout",
     "output_type": "stream",
     "text": [
      "{'_id': ObjectId('670727f35c2736f34a3cb8cb'), 'id': '2', 'nombre': 'Producto A', 'descripcion': 'Descripcion del producto A', 'precio': 29.99, 'categoria': 'Electronica'}\n"
     ]
    }
   ],
   "source": [
    "query = {\"id\": \"2\"}\n",
    "\n",
    "documentos = collection.find(query)\n",
    "\n",
    "for doc in documentos:\n",
    "    print(doc)"
   ]
  },
  {
   "cell_type": "code",
   "execution_count": 19,
   "metadata": {},
   "outputs": [],
   "source": [
    "query = {'id':'1'}\n",
    "nuevo_valor = {\"$set\": {\"precio\": 25}}\n",
    "\n",
    "resultado = collection.update_one(query, nuevo_valor)\n"
   ]
  },
  {
   "cell_type": "code",
   "execution_count": 20,
   "metadata": {},
   "outputs": [],
   "source": [
    "resultado = collection.delete_one(query)"
   ]
  },
  {
   "cell_type": "code",
   "execution_count": null,
   "metadata": {},
   "outputs": [],
   "source": [
    "query = {\n",
    "    $and:[\n",
    "        {'campo1': valor1},\n",
    "        {'campo2': Valor2}\n",
    "    ]\n",
    "}\n",
    "query = {\n",
    "    $or:[\n",
    "        {'campo1': valor1},\n",
    "        {'campo2': Valor2}\n",
    "    ]\n",
    "}\n",
    "\n",
    "query = {\n",
    "    'campo1': {$gt: valor}\n",
    "}\n",
    "\n",
    "query = {\n",
    "    'campo1': {$lt: valor}\n",
    "}\n",
    "\n",
    "query = {\n",
    "    'campo1': { $gt: 18, $lte:35}\n",
    "}"
   ]
  }
 ],
 "metadata": {
  "kernelspec": {
   "display_name": "Python 3",
   "language": "python",
   "name": "python3"
  },
  "language_info": {
   "codemirror_mode": {
    "name": "ipython",
    "version": 3
   },
   "file_extension": ".py",
   "mimetype": "text/x-python",
   "name": "python",
   "nbconvert_exporter": "python",
   "pygments_lexer": "ipython3",
   "version": "3.12.1"
  }
 },
 "nbformat": 4,
 "nbformat_minor": 2
}
